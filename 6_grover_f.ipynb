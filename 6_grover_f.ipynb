{
 "cells": [
  {
   "cell_type": "markdown",
   "metadata": {},
   "source": [
    "## Pour fonctionner dans googlecolab : <br>\n",
    "$\\renewcommand{\\ket}[1]{| #1 \\rangle}$  <!Cette commande n'est utile que dans google colab mais ne mange pas de pain-->\n",
    "décommenter les deux cellules suivantes<br>\n",
    "les exécuter<br>\n",
    "redémarrer l'environnement d'exécution  avant de poursuivre <br>"
   ]
  },
  {
   "cell_type": "code",
   "execution_count": null,
   "metadata": {},
   "outputs": [],
   "source": [
    "#colab# !pip install myqlm"
   ]
  },
  {
   "cell_type": "code",
   "execution_count": null,
   "metadata": {},
   "outputs": [],
   "source": [
    "#colab# !python -m qat.magics.install"
   ]
  },
  {
   "cell_type": "markdown",
   "metadata": {},
   "source": [
    "# Grover \n",
    "\n",
    "The purpose of this notebook is to briefly demonstrate the programming and execution of a simple Grover algorithm in the QLM.\n",
    "\n",
    "## Grover's algorithm\n",
    "\n",
    "Grover's algorithm rely on a two main ingredients:\n",
    "- a diffusion operator $\\mathcal{D} = 2 |s\\rangle\\langle s| - I$, where $|s\\rangle = \\frac{1}{\\sqrt{2^n}}\\sum |i\\rangle$\n",
    "- and an oracle \"marking\" some basis states by flipping their phases: $O_f = \\sum_i (-1)^{f(i)}|i\\rangle\\langle i|$ for some boolean predicate $f$\n",
    "\n",
    "\n",
    "### Diffusion operator\n",
    "\n",
    "Lets first start by programming a piece of pyAQASM code that will generate a diffusion operator.\n",
    "$\\mathcal{D}$ can be obtained by:\n",
    "- performing a basis change from the computation basis to the diagonal basis (i.e a cascade of H gates)\n",
    "- performing a collectiong of bit flips in order to send the $|0^n\\rangle$ state onto $|1^n\\rangle$\n",
    "- performing a \"global\" controlled-Z gate in order to flip the phase of $|0^n\\rangle$\n",
    "- undoing the bit flips\n",
    "- undoing the basis change\n",
    "\n",
    "\n",
    "This can be easily expressed in pyAQASM as follows:"
   ]
  },
  {
   "cell_type": "code",
   "execution_count": null,
   "metadata": {},
   "outputs": [],
   "source": [
    "#directement copié du tuto GROVER\n",
    "from qat.lang.AQASM import QRoutine, Z, H, X, CNOT,Program\n",
    "from qat.lang.AQASM.misc import build_gate\n",
    "\n",
    "@build_gate(\"D\", [int], arity=lambda n: n)\n",
    "def diffusion(nbqbits):\n",
    "    rout = QRoutine()\n",
    "    wires = rout.new_wires(nbqbits)\n",
    "    with rout.compute():\n",
    "        for wire in wires:\n",
    "            H(wire)\n",
    "            X(wire)\n",
    "    Z.ctrl(nbqbits - 1)(wires)\n",
    "    rout.uncompute()\n",
    "    return rout\n",
    "\n",
    "example = diffusion(4)\n",
    "example.display()\n"
   ]
  },
  {
   "cell_type": "markdown",
   "metadata": {},
   "source": [
    "Nous avons maintenant une fonction qui produit des opérateurs de diffusion de la bonne taille. De plus, cette fonction est enveloppée dans une \"boîte\" appelée \"D\" pour la diffusion (c'est principalement à des fins de visualisation)"
   ]
  },
  {
   "cell_type": "markdown",
   "metadata": {},
   "source": [
    "Construction d'un exemple plus simple que les graphes colorés du tuto\n",
    "\n",
    "On prend un problème plus simple  que celui du tuto. Le problème proposé dans l'exposé de Cindy : On a $n$ cases qui contiennent des pommes à par la case $n_0$  qui contient une orange. Il faut trouver $n_0$. \n",
    "\n",
    "[Livre Quantum page 127]\n",
    "\n",
    "Nous modélisons la recherche dans une liste non ordonnée à l’aide d’une fonction mathématique. Soit $N$ un entier fixé et soit $k_0$ un entier avec $0\\leq k_0 \\leq N-1$. Définissons alors la fonction $f : \\{0,1,\\ldots,N −1\\} \\rightarrow \\{0,1\\}$ par\n",
    "$f (k_0) = 1$ et $f (k) = 0$ pour tout $k\\neq k_0$. Problème. Étant donnée une telle fonction $f$ , trouver la valeur $k_0$ telle que $f (k_0) = 1$.\n",
    "\n",
    "ALGORITHME DE GROVER Il s’agit donc de trouver l’antécédent de 1 par f .\n",
    "Ca correspond à identifier $f : (Z/2Z)^{2N}\\rightarrow Z/2Z$ qui envoie \n",
    "$|\\underline{n_0}>$ sur 1 et tous les autres n-qubits sur 0.\n",
    "\n",
    "\n",
    "On se place dans le cas où $N$ est une puissance de 2 $N=2^n$.  $k_0$ un entier avec $0\\leq k \\leq N-1$ s'écrit en binaire $\\underline k$ sur n bits. Ainsi $|\\underline k>$ pour $0\\leq k \\leq N-1$  désigne les n-qubits de la base canonique : $$\n",
    "|\\underline{0}= |0.0 \\ldots 0〉,~ |\\underline{1}= |0.0 \\ldots 1〉,\\ldots, ,~ |\\underline{2^n-1}= |1.1 \\ldots 1〉.$$\n"
   ]
  },
  {
   "cell_type": "markdown",
   "metadata": {},
   "source": [
    "Dans la cellule suivante on a programmé l'oracle pour la  fonction correspondant à $n_0=2^n-1$. C'est la plus simple : il n'y a rien à faire à part implémenter $y\\oplus f(x)$ par une X contrôlée par tous les premiers qbits.\n",
    "Vérifiez que vous comprenez les résultats puis changez l'oracle pour retrouver la fonction correspondant à $n_0=2^{n-1}$ par exemple."
   ]
  },
  {
   "cell_type": "code",
   "execution_count": null,
   "metadata": {},
   "outputs": [],
   "source": [
    "\n",
    "@build_gate(\"O\", [int], arity=lambda n: n)\n",
    "def oracle(nbqbits):\n",
    "        # on programme le cas  |n0_>=|1111...111>\n",
    "    # attention nbqbits=nqbits+1 le dernier qbits est utilisé pour y+f(x) \n",
    "    rout = QRoutine()\n",
    "    wires = rout.new_wires(nbqbits)\n",
    "    X.ctrl(nbqbits - 1)(wires)  #y+f(x) \n",
    "    return rout\n",
    "example = oracle(4)\n",
    "example.display()\n",
    "\n"
   ]
  },
  {
   "cell_type": "code",
   "execution_count": null,
   "metadata": {},
   "outputs": [],
   "source": [
    "#vérification de l'oracle\n",
    "from qat.qpus import get_default_qpu\n",
    "qpu = get_default_qpu()\n",
    "prog = Program()\n",
    "m=4\n",
    "data = prog.qalloc(m)\n",
    "# On prépare les m-1 premiers qbits à |k0_>==|0010000>  pour que l'oracle le reconnaisse\n",
    "prog.apply(X,data[2])\n",
    "####\n",
    "prog.apply(X,data[m-1])\n",
    "prog.apply(H,data[m-1])\n",
    "oracle(m)(data)\n",
    "circuit = prog.to_circ(box_routines=True)\n",
    "circuit.display()\n",
    "result = qpu.submit(circuit.to_job())\n",
    "print(\"on vérifie que le dernier qbit=|-> si |k_> est différent de |k0_> et -|-> si |k_> == |k0_> \")\n",
    "for s in result:\n",
    "    print(s.state, \"dernier qbit=|\",1*s.state[m-1],\">\",s.amplitude)\n",
    "    print(s.state,s.amplitude)\n"
   ]
  },
  {
   "cell_type": "markdown",
   "metadata": {},
   "source": [
    "Exercice : Changer de fonction, changer l'oracle et vérifier que ça marche"
   ]
  },
  {
   "cell_type": "code",
   "execution_count": null,
   "metadata": {},
   "outputs": [],
   "source": [
    "import numpy as np\n",
    "prog = Program()\n",
    "m=4\n",
    "data = prog.qalloc(m)\n",
    "prog.reset(data)\n",
    "sol = prog.calloc(m)\n",
    "\n",
    "\n",
    "prog.apply(X,data[m-1])\n",
    "for i in range(m):\n",
    "    prog.apply(H,data[i])\n",
    "\n",
    "ll=int(np.pi*np.sqrt(2**m)/4) # ll est une borne max pour le nombre d'itérations\n",
    "print(ll)"
   ]
  },
  {
   "cell_type": "code",
   "execution_count": null,
   "metadata": {},
   "outputs": [],
   "source": [
    "for i in range(2): # \n",
    "    oracle(m)(data)\n",
    "    diffusion(m-1)(data[:m-1])\n",
    "prog.measure(data, sol)\n",
    "\n",
    "circuit = prog.to_circ(box_routines=True)\n",
    "circuit.display()\n",
    "from qat.qpus import PyLinalg\n",
    "\n",
    "#result = PyLinalg().submit(circuit.to_job(qubits=[0], nbshots=50))\n",
    "result = PyLinalg().submit(circuit.to_job( ))\n",
    "for s in result:\n",
    "    print(s.state)\n",
    "    print(s.state, \"dernier qbit=|\",1*s.state[m-1],\">\",s.amplitude)\n",
    "result.plot()"
   ]
  },
  {
   "cell_type": "code",
   "execution_count": null,
   "metadata": {},
   "outputs": [],
   "source": [
    "#passage à l'échelle \n",
    "prog = Program()\n",
    "m=10\n",
    "data = prog.qalloc(m)\n",
    "prog.reset(data)\n",
    "sol = prog.calloc(m)\n",
    "\n",
    "\n",
    "prog.apply(X,data[m-1])\n",
    "for i in range(m):\n",
    "    prog.apply(H,data[i])\n",
    "\n",
    "ll=int(np.pi*np.sqrt(2**m)/4) # ll est une borne max pour le nombre d'itérations\n",
    "print(\"on doit faire au plus \",ll,\" itérations au lieu de \",2**m,\"évaluations de f\")"
   ]
  },
  {
   "cell_type": "code",
   "execution_count": null,
   "metadata": {},
   "outputs": [],
   "source": [
    "for i in range(24): # \n",
    "    oracle(m)(data)\n",
    "    diffusion(m-1)(data[:m-1])\n",
    "prog.measure(data, sol)\n",
    "\n",
    "circuit = prog.to_circ(box_routines=True)\n",
    "circuit.display()\n",
    "from qat.qpus import PyLinalg\n",
    "\n",
    "result = PyLinalg().submit(circuit.to_job( ))\n",
    "for s in result:\n",
    "    print(s.state)\n",
    "result.plot()"
   ]
  },
  {
   "cell_type": "code",
   "execution_count": null,
   "metadata": {},
   "outputs": [],
   "source": []
  },
  {
   "cell_type": "code",
   "execution_count": null,
   "metadata": {},
   "outputs": [],
   "source": []
  }
 ],
 "metadata": {
  "kernelspec": {
   "display_name": "Python 3 (ipykernel)",
   "language": "python",
   "name": "python3"
  },
  "language_info": {
   "codemirror_mode": {
    "name": "ipython",
    "version": 3
   },
   "file_extension": ".py",
   "mimetype": "text/x-python",
   "name": "python",
   "nbconvert_exporter": "python",
   "pygments_lexer": "ipython3",
   "version": "3.11.5"
  }
 },
 "nbformat": 4,
 "nbformat_minor": 4
}
