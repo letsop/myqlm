{
 "cells": [
  {
   "cell_type": "markdown",
   "id": "0be79ffd-37a7-4374-ae0e-989092b32f94",
   "metadata": {},
   "source": [
    "## Pour fonctionner dans googlecolab : <br>\n",
    "$\\renewcommand{\\ket}[1]{| #1 \\rangle}$  <!Cette commande n'est utile que dans google colab mais ne mange pas de pain-->\n",
    "décommenter les deux cellules suivantes<br>\n",
    "les exécuter<br>\n",
    "redémarrer l'environnement d'exécution <br>"
   ]
  },
  {
   "cell_type": "code",
   "execution_count": null,
   "id": "3ad891dd-5941-42aa-b5f4-bbf759cf4862",
   "metadata": {},
   "outputs": [],
   "source": [
    "!pip install myqlm"
   ]
  },
  {
   "cell_type": "code",
   "execution_count": null,
   "id": "6412344a-882b-48bf-861b-be656a4cd911",
   "metadata": {},
   "outputs": [],
   "source": [
    "!python -m qat.magics.install"
   ]
  },
  {
   "cell_type": "markdown",
   "id": "50f40c84-cf20-4ff1-b201-69139811b18c",
   "metadata": {},
   "source": [
    "Ce notebook reprend des exercices du début du livre d'ARNAUD BODIN <BR>\n",
    "\n",
    "## QUANTUM : UN PEU DE MATHÉMATIQUES POUR L’INFORMATIQUE QUANTIQUE<br>\n",
    "\n",
    "\n",
    "https://exo7math.github.io/quantum-exo7/\n",
    "\n",
    "\n",
    "La liste des portes est <a href=https://myqlm.github.io/02_user_guide/01_write/01_digital_circuit/05_aqasm.html#list-of-gates>ici</a>"
   ]
  },
  {
   "cell_type": "code",
   "execution_count": null,
   "id": "304df7eb-9129-4eaf-9476-e8b2a9ebadec",
   "metadata": {},
   "outputs": [],
   "source": [
    "import numpy as np\n",
    "# everything we need to write a quantum circuit : \n",
    "#il vaut mieux importer element par element \n",
    "from qat.lang import Program,AbstractGate,X,H,CNOT,QRoutine,CCNOT\n"
   ]
  },
  {
   "cell_type": "markdown",
   "id": "f089b5ef-6065-4fc8-88f9-bf730771976f",
   "metadata": {},
   "source": [
    "Préparation d'un état $$\\phi>=\\alpha\\ket{0}+\\beta\\ket{1}$$"
   ]
  },
  {
   "cell_type": "code",
   "execution_count": null,
   "id": "9ee8e9ce-57b5-4ed1-a630-b2cbb5115a99",
   "metadata": {},
   "outputs": [],
   "source": [
    "Of = AbstractGate(\"Of\", [], arity=1)\n",
    "alpha=1./2\n",
    "beta=(-3)**0.5/2\n",
    "def Of_generator():\n",
    "    # Fonction pour initialiser avec des coefficients donnés\n",
    "    return np.array([[alpha, beta],\n",
    "                     [-beta, alpha]])\n",
    "Of.set_matrix_generator(Of_generator)   \n",
    "prog = Program()\n",
    "qbits = prog.qalloc(1)\n",
    "prog.apply(Of(), qbits)\n",
    "circuit = prog.to_circ(box_routines=True)\n",
    "%qatdisplay --svg circuit\n",
    "from qat.qpus import PyLinalg\n",
    "result = PyLinalg().submit(circuit.to_job())\n",
    "for sample in result:\n",
    "    print(\"State %s, amplitude %s, probability %s\"%(sample.state, sample.amplitude, sample.probability))\n",
    "print(\"amplitudes (alpha,beta)=\",alpha,beta)\n",
    "print(\"probabilités (|alpha|^2,|beta|^2)=\",np.abs(alpha)**2,np.abs(beta)**2)\n",
    "#"
   ]
  },
  {
   "cell_type": "markdown",
   "id": "620d2b14-98cd-4dd7-9c8d-e3f85e72a2eb",
   "metadata": {},
   "source": [
    "Une autre manière d'initialiser un qbit $|\\phi>=\\alpha|0>+\\beta|1>$ avec $|\\alpha|^2+|\\beta|^2=1$ est d'exprimer\n",
    "$\\alpha=\\cos(\\theta)e^{ia}+\\sin(\\theta)e^{ib}$ avec $\\theta$, $a$ et $b$ réels.\n",
    "\n",
    "$$\\ket{\\phi}=\\cos(\\theta)e^{ia}|0>+\\sin(\\theta)e^{ib}|1>.$$\n",
    "\n",
    "\n",
    "On peut utiliser les portes préprogrammées $$PH(\\theta)=\\begin{pmatrix}1&0\\\\0&e^{i\\theta}\\end{pmatrix}$$ (phase shift)et \n",
    "$$R_Y(\\theta)=\\begin{pmatrix}\\cos(\\theta/2)&-\\sin(\\theta/2)\\\\ \\sin(\\theta/2)&\\cos(\\theta/2)\\end{pmatrix}$$\n",
    "\n",
    "Voir https://myqlm.github.io/02_user_guide/01_write/01_digital_circuit/05_aqasm.html\n",
    "\n",
    "\n",
    "Exercice : Programmer le circuit"
   ]
  },
  {
   "cell_type": "code",
   "execution_count": null,
   "id": "4b866a7c-9c13-4db8-9823-aafdff054474",
   "metadata": {},
   "outputs": [],
   "source": [
    "from qat.lang import RY,PH\n",
    "a=np.angle(alpha)\n",
    "r1=np.abs(alpha)\n",
    "b=np.angle(beta)\n",
    "r2=np.abs(beta)\n",
    "print(\"check modulus \",r1**2+r2**2)\n",
    "theta=np.arctan(r2/r1)\n",
    "prog = Program()\n",
    "qbits = prog.qalloc(1)  # ici qbits[0] est initialisé à |0>\n",
    "## appliquer les portes nécessaires pour calculer |phi> à partir de |0>\n"
   ]
  },
  {
   "cell_type": "code",
   "execution_count": null,
   "id": "8591685f-1e47-4a1e-8ce8-b44d89159dc1",
   "metadata": {},
   "outputs": [],
   "source": [
    "#solution \n",
    "a=np.angle(alpha)\n",
    "r1=np.abs(alpha)\n",
    "b=np.angle(beta)\n",
    "r2=np.abs(beta)\n",
    "print(\"check modulus \",r1**2+r2**2)\n",
    "theta=np.arctan(r2/r1)\n",
    "prog = Program()\n",
    "qbits = prog.qalloc(1)  # ici qbits[0] est initialisé à |0>\n",
    "## appliquer les portes nécessaires pour calculer |phi> à partir de |0>\n",
    "prog.apply(RY(-2*theta),qbits)\n",
    "prog.apply(PH(b),qbits)\n",
    "prog.apply(X,qbits)\n",
    "prog.apply(PH(a),qbits)\n",
    "prog.apply(X,qbits)\n",
    "\n",
    "circuit = prog.to_circ(box_routines=True)\n",
    "%qatdisplay --svg circuit\n",
    "from qat.qpus import PyLinalg\n",
    "result = PyLinalg().submit(circuit.to_job())\n",
    "for sample in result:\n",
    "    print(\"State %s, amplitude %s, probability %s\"%(sample.state, sample.amplitude, sample.probability))\n",
    "print(\"amplitudes (alpha,beta)=\",alpha,beta)\n",
    "print(\"probabilités (|alpha|^2,|beta|^2)=\",np.abs(alpha)**2,np.abs(beta)**2)\n"
   ]
  },
  {
   "cell_type": "markdown",
   "id": "06b44378-8932-4cba-81dd-67157fe1be19",
   "metadata": {},
   "source": [
    "Programmation de la porte $$\\sqrt{NOT}=\\begin{pmatrix}1+i&1-i\\\\1-i&1+i\\end{pmatrix}$$ \n",
    "1ere methode : avec un générateur\n"
   ]
  },
  {
   "cell_type": "code",
   "execution_count": null,
   "id": "421d8f8c-fb73-4c85-8220-66a16857ec1b",
   "metadata": {},
   "outputs": [],
   "source": []
  },
  {
   "cell_type": "markdown",
   "id": "a67e7df4-d922-4b04-a60c-103d64c6d1d3",
   "metadata": {},
   "source": [
    "2eme methode : avec un circuit équivalent\n",
    "\n",
    "$$\\begin{array}{l}\\ket{0}.......\\mbox{SQRTNOT}......(1+i)\\ket{0}+(1-i)\\ket{1}\\\\\n",
    "\\ket{1}.......\\mbox{SQRTNOT}......(1-i)\\ket{0}+(1+i)\\ket{1}\\end{array}$$\n"
   ]
  },
  {
   "cell_type": "code",
   "execution_count": null,
   "id": "4e454908-d2d5-4b45-95e2-586e43a79722",
   "metadata": {},
   "outputs": [],
   "source": [
    "#programmer les deux  méthodes. Vérifier qu'elles donnent la même chose sur |0> et |1>\n",
    "\n",
    "\n",
    "\n"
   ]
  },
  {
   "cell_type": "code",
   "execution_count": null,
   "id": "4530e590-aa14-47e1-a363-fa3b1ba2ddc8",
   "metadata": {},
   "outputs": [],
   "source": []
  },
  {
   "cell_type": "code",
   "execution_count": null,
   "id": "e59baa73-3856-4820-bbe8-804afbde73c4",
   "metadata": {},
   "outputs": [],
   "source": [
    "#Proposition de solution \n",
    "#méthode 1:\n",
    "SQRTNOT1 = AbstractGate(\"SQRTNOT\", [], arity=1)\n",
    "def SQRTNOT_generator():\n",
    "    # Fonction pour initialiser avec des coefficients donnés\n",
    "    return np.array([[1+1j, 1-1j],\n",
    "                     [1-1j, 1+1j]])/2\n",
    "SQRTNOT1.set_matrix_generator(SQRTNOT_generator)   \n",
    "\n",
    "# méthode 2\n",
    "from qat.lang import H,S\n",
    "rout = QRoutine()\n",
    "wires = rout.new_wires(1)\n",
    "rout.apply(H,wires[0])\n",
    "rout.apply(S,wires[0])\n",
    "rout.apply(H,wires[0])\n",
    "%qatdisplay --svg rout\n",
    "\n",
    "\n",
    "\n",
    "# utilisation dans le circuit :\n",
    "prog1 = Program()\n",
    "qbit = prog1.qalloc(1)\n",
    "prog1.apply(SQRTNOT1(), qbit)\n",
    "circuit = prog1.to_circ(box_routines=True)\n",
    "%qatdisplay --svg circuit\n",
    "from qat.qpus import PyLinalg\n",
    "result1 = PyLinalg().submit(circuit.to_job())\n",
    "prog2 = Program()\n",
    "qbit = prog2.qalloc(1)\n",
    "prog2.apply(rout, qbit)\n",
    "circuit = prog2.to_circ(box_routines=True)\n",
    "%qatdisplay --svg circuit\n",
    "from qat.qpus import PyLinalg\n",
    "result2 = PyLinalg().submit(circuit.to_job())\n",
    "\n",
    "\n",
    "print(\"Image of |0> : \")\n",
    "\n",
    "for sample in result1:\n",
    "    print(\"methode 1: State %s, amplitude %s, probability %s\"%(sample.state, sample.amplitude, sample.probability))\n",
    "for sample in result2:\n",
    "    print(\"methode 2 : State %s, amplitude %s, probability %s\"%(sample.state, sample.amplitude, sample.probability))\n",
    "from qat.lang import RY,PH\n",
    "\n",
    "\n",
    "# utilisation dans le circuit :\n",
    "prog1 = Program()\n",
    "qbit = prog1.qalloc(1)\n",
    "prog1.apply(X,qbit)\n",
    "prog1.apply(SQRTNOT1(), qbit)\n",
    "circuit = prog1.to_circ(box_routines=True)\n",
    "%qatdisplay --svg circuit\n",
    "from qat.qpus import PyLinalg\n",
    "result1 = PyLinalg().submit(circuit.to_job())\n",
    "prog2 = Program()\n",
    "qbit = prog2.qalloc(1)\n",
    "prog2.apply(X, qbit)\n",
    "prog2.apply(rout, qbit)\n",
    "circuit = prog2.to_circ(box_routines=True)\n",
    "%qatdisplay --svg circuit\n",
    "from qat.qpus import PyLinalg\n",
    "result2 = PyLinalg().submit(circuit.to_job())\n",
    "\n",
    "\n",
    "print(\"Image of |1> :\" )\n",
    "for sample in result1:\n",
    "    print(\"methode 1: State %s, amplitude %s, probability %s\"%(sample.state, sample.amplitude, sample.probability))\n",
    "for sample in result2:\n",
    "    print(\"méthode 2: State %s, amplitude %s, probability %s\"%(sample.state, sample.amplitude, sample.probability))\n",
    "from qat.lang import RY,PH\n"
   ]
  },
  {
   "cell_type": "markdown",
   "id": "c377fc24-b0a0-4688-b974-4987b2ff7f6d",
   "metadata": {},
   "source": [
    "Pour l'entrée $\\ket{0}$ que donne une mesure après une porte $\\sqrt{NOT}$ ? même question avec l'entrée $\\ket{1}$ "
   ]
  },
  {
   "cell_type": "code",
   "execution_count": null,
   "id": "925ae6b6-65b9-46e4-a154-25001afc56c9",
   "metadata": {},
   "outputs": [],
   "source": []
  },
  {
   "cell_type": "code",
   "execution_count": null,
   "id": "cb76659e-1f2f-4ce2-b9dc-f4c8c940c411",
   "metadata": {},
   "outputs": [],
   "source": [
    "#Proposition de solution\n",
    "#Question 1\n",
    "prog = Program()\n",
    "qbits = prog.qalloc(1)\n",
    "print(\"on applique SQRTNOT à |O>\")\n",
    "prog.apply(SQRTNOT1(), qbits)\n",
    "circuit = prog.to_circ(box_routines=True)\n",
    "%qatdisplay --svg circuit\n",
    "from qat.qpus import PyLinalg\n",
    "# measuring qubit #0 50 times\n",
    "result = PyLinalg().submit(circuit.to_job(qubits=[0], nbshots=1000))\n",
    "for res in result:\n",
    "    print(\"Qubit 0 has value %s (the probability of getting this result is %s +/- %s)\"%(int(res.state[0]),\n",
    "                                                                                 res.probability, res.err))\n",
    "prog = Program()\n",
    "qbits = prog.qalloc(1)\n",
    "print(\"on applique SQRTNOT à |1>\")\n",
    "prog.apply(X, qbits)\n",
    "prog.apply(SQRTNOT1(), qbits)\n",
    "circuit = prog.to_circ(box_routines=True)\n",
    "%qatdisplay --svg circuit\n",
    "from qat.qpus import PyLinalg\n",
    "# measuring qubit #0 50 times\n",
    "result = PyLinalg().submit(circuit.to_job(qubits=[0], nbshots=1000))\n",
    "for res in result:\n",
    "    print(\"L'image du Qubit 0 has value %s (the probability of getting this result is %s +/- %s)\"%(int(res.state[0]),\n",
    "                                                                                 res.probability, res.err))\n"
   ]
  },
  {
   "cell_type": "markdown",
   "id": "fc5a1b32-3523-4cf4-adc9-56d6663377a1",
   "metadata": {},
   "source": [
    "Pour l'entrée $\\dfrac{1}{2}\\ket{0}+i\\dfrac{\\sqrt{3}}{2}\\ket{1}$ que donne la sortie après la porte\n",
    " $\\sqrt{NOT}$ ?  Que donne ensuite une\n",
    "mesure ?"
   ]
  },
  {
   "cell_type": "code",
   "execution_count": null,
   "id": "e241de21-bba8-422f-933f-af62e0aa56e4",
   "metadata": {},
   "outputs": [],
   "source": []
  },
  {
   "cell_type": "code",
   "execution_count": null,
   "id": "2df70457-e474-4c5d-8385-c98730c275a0",
   "metadata": {},
   "outputs": [],
   "source": [
    "#proposition de solution\n",
    "print(\"alpha^2=\",np.abs(alpha)**2,\" beta^2=\",np.abs(beta)**2)\n",
    "alpha=1./2\n",
    "beta=(-3)**0.5/2\n",
    "\n",
    "#Question 2\n",
    "prog = Program()\n",
    "qbits = prog.qalloc(1)\n",
    "print(\"on applique SQRTNOT à |phi>\")\n",
    "prog.apply(Of(), qbits)\n",
    "prog.apply(SQRTNOT1(), qbits)\n",
    "circuit = prog.to_circ(box_routines=True)\n",
    "%qatdisplay --svg circuit\n",
    "from qat.qpus import PyLinalg\n",
    "# measuring qubit #0 50 times\n",
    "result = PyLinalg().submit(circuit.to_job(qubits=[0], nbshots=1000))\n",
    "for res in result:\n",
    "    print(\"Qubit 0 has value %s (the probability of getting this result is %s +/- %s)\"%(int(res.state[0]), res.probability, res.err))\n",
    "       "
   ]
  },
  {
   "cell_type": "markdown",
   "id": "b128d4f8-f3b6-4fab-8a6d-5af38bc12569",
   "metadata": {},
   "source": [
    "Montrer que $$\\sqrt{NOT}\\sqrt{NOT}=NOT.$$"
   ]
  },
  {
   "cell_type": "code",
   "execution_count": null,
   "id": "d68f03e7-612a-44e3-8d9a-0da591603d09",
   "metadata": {},
   "outputs": [],
   "source": []
  },
  {
   "cell_type": "code",
   "execution_count": null,
   "id": "66523c52-31c8-41cb-9565-6a95e5d564a9",
   "metadata": {},
   "outputs": [],
   "source": [
    "#proposition de solution                                                                        \n",
    "#Question 3\n",
    "prog = Program()\n",
    "qbits = prog.qalloc(1)\n",
    "print(\"on applique 2 fois SQRTNOT à |0>\")\n",
    "prog.apply(SQRTNOT1(), qbits)\n",
    "prog.apply(SQRTNOT1(), qbits)\n",
    "circuit = prog.to_circ(box_routines=True)\n",
    "%qatdisplay --svg circuit\n",
    "from qat.qpus import PyLinalg\n",
    "# measuring qubit #0 50 times\n",
    "result = PyLinalg().submit(circuit.to_job(qubits=[0], nbshots=1000))\n",
    "for res in result:\n",
    "    print(\"Qubit has value %s (the probability of getting this result is %s +/- %s)\"%(int(res.state[0]),\n",
    "                                                                                 res.probability, res.err))\n",
    "\n",
    "prog = Program()\n",
    "qbits = prog.qalloc(1)\n",
    "print(\"on applique 2 fois SQRTNOT à |1>\")\n",
    "prog.apply(X, qbits)\n",
    "prog.apply(SQRTNOT1(), qbits)\n",
    "prog.apply(SQRTNOT1(), qbits)\n",
    "circuit = prog.to_circ(box_routines=True)\n",
    "%qatdisplay --svg circuit\n",
    "from qat.qpus import PyLinalg\n",
    "# measuring qubit #0 50 times\n",
    "result = PyLinalg().submit(circuit.to_job(qubits=[0], nbshots=1000))\n",
    "for res in result:\n",
    "    print(\"Qubit  has value %s (the probability of getting this result is %s +/- %s)\"%(int(res.state[0]),\n",
    "                                                                                 res.probability, res.err))"
   ]
  },
  {
   "cell_type": "markdown",
   "id": "4ae498ae-c158-42c3-a5dd-9834a2ea7a0e",
   "metadata": {},
   "source": [
    "Initialisation d'un 2-qubit de norme 1 (Exemple page 10 [quantum book])\n",
    "$$|\\phi〉 =\\dfrac{1}{\\sqrt{6}}|0.0〉 +\n",
    "\\dfrac{i}{\\sqrt{6}}\n",
    "|1.0〉 +\n",
    "\\dfrac{1 + i}{\\sqrt{3}}|1.1〉$$\n",
    "Préparer l'état $\\phi$ dans un 2-qbits avec une  AbstractGate "
   ]
  },
  {
   "cell_type": "code",
   "execution_count": null,
   "id": "f4449777-5ee2-41cb-853b-b9b979cee138",
   "metadata": {},
   "outputs": [],
   "source": []
  },
  {
   "cell_type": "code",
   "execution_count": null,
   "id": "6b564bb0-be03-404b-bcff-8bc4f62149f4",
   "metadata": {},
   "outputs": [],
   "source": [
    "#proposition de solution\n",
    "#Exemple page 10\n",
    "#initialisation d'un 2-qubit de norme 1\n",
    "Of = AbstractGate(\"Of\", [], arity=2)\n",
    "alpha=1/6**0.5\n",
    "beta=1j/6**0.5\n",
    "gamma=(1+1j)/3**0.5\n",
    "def Of_generator():\n",
    "    # Fonction pour initialiser avec des coefficients donnés\n",
    "    return np.array([[alpha,0,0,0],\n",
    "                     [0,0,0,0],\n",
    "                     [beta,0,0,0],\n",
    "                     [gamma,0,0,0]])\n",
    "Of.set_matrix_generator(Of_generator)   \n",
    "\n",
    "prog = Program()\n",
    "qbits = prog.qalloc(2)\n",
    "prog.apply(Of(), qbits)\n",
    "circuit = prog.to_circ(box_routines=True)\n",
    "%qatdisplay --svg circuit\n",
    "from qat.qpus import PyLinalg\n",
    "result = PyLinalg().submit(circuit.to_job())\n",
    "for sample in result:\n",
    "    print(\"State %s, amplitude %s, probability %s\"%(sample.state, sample.amplitude, sample.probability))\n",
    "print(\"amplitudes=\",alpha,beta,gamma)\n",
    "print(\"probabilités=\",np.abs(alpha)**2,np.abs(beta)**2,np.abs(gamma)**2)"
   ]
  },
  {
   "cell_type": "markdown",
   "id": "2fd4a82f-1135-4ccf-9468-d12ac600fd33",
   "metadata": {},
   "source": [
    "Préparer l'état de Bell\n",
    "$$\\ket{\\phi^+}=\\dfrac{1}{\\sqrt{2}}(\\ket{0.0}+\\ket{1.1})$$\n",
    "avec un circuit"
   ]
  },
  {
   "cell_type": "code",
   "execution_count": null,
   "id": "d12c4c5c-10f7-4009-954f-1eedc04a26e3",
   "metadata": {},
   "outputs": [],
   "source": []
  },
  {
   "cell_type": "code",
   "execution_count": null,
   "id": "73215134-bc1f-4084-afb5-f53d0f5358de",
   "metadata": {},
   "outputs": [],
   "source": [
    "#proposition de solution\n",
    "#page 11 Etat de Bell\n",
    "prog = Program()\n",
    "qbits = prog.qalloc(2)\n",
    "prog.apply(H, qbits[0])\n",
    "prog.apply(CNOT, qbits)\n",
    "circuit = prog.to_circ(box_routines=True)\n",
    "%qatdisplay --svg circuit\n",
    "from qat.qpus import PyLinalg\n",
    "result = PyLinalg().submit(circuit.to_job())\n",
    "for sample in result:\n",
    "    print(\"State %s, amplitude %s, probability %s\"%(sample.state, sample.amplitude, sample.probability))\n"
   ]
  },
  {
   "cell_type": "markdown",
   "id": "afa50b92-708c-4bb9-85f5-b64e207faf30",
   "metadata": {},
   "source": [
    "Appliquez le circuit précédent à l'état $\\ket{1.0}$ (au lieu de $\\ket{0.0}$  pour obtenir l'état de BEll). Qu'obtenez-vous ?\n",
    "\n",
    "Que faut-il insérer dans le circuit pour obtenir $$\\ket{\\phi^+}=\\dfrac{1}{\\sqrt{2}}(\\ket{1.0}>+\\ket{1.0})$$\n",
    " à partir de $\\ket{0.0}$"
   ]
  },
  {
   "cell_type": "code",
   "execution_count": null,
   "id": "3d4c4de7-4d20-4c2c-9383-8eb7fea2f019",
   "metadata": {},
   "outputs": [],
   "source": []
  },
  {
   "cell_type": "code",
   "execution_count": null,
   "id": "9e7bb008-980d-4ff7-a428-da70e5cb26ed",
   "metadata": {},
   "outputs": [],
   "source": [
    "#proposition de solution\n",
    "#exercice page 12\n",
    "prog = Program()\n",
    "qbits = prog.qalloc(2)\n",
    "# on veut partir de l'état initial |1.0> au lieu de |0.0> donc on applique X à au 1er qubit\n",
    "prog.apply(X, qbits[0])\n",
    "prog.apply(H, qbits[0])\n",
    "prog.apply(CNOT, qbits)\n",
    "circuit = prog.to_circ(box_routines=True)\n",
    "%qatdisplay --svg circuit\n",
    "from qat.qpus import PyLinalg\n",
    "result = PyLinalg().submit(circuit.to_job())\n",
    "print(\"sortie à partir de |10>\")\n",
    "for sample in result:\n",
    "    print(\"State %s, amplitude %s, probability %s\"%(sample.state, sample.amplitude, sample.probability))\n",
    "prog = Program()\n",
    "qbits = prog.qalloc(2)\n",
    "# Question : où insérer une porte X pour que le circuit produise (|0.1>+|1.0>)/sqrt(2)\n",
    "prog.apply(X, qbits[1])\n",
    "prog.apply(H, qbits[0])\n",
    "prog.apply(CNOT, qbits)\n",
    "circuit = prog.to_circ(box_routines=True)\n",
    "%qatdisplay --svg circuit\n",
    "from qat.qpus import PyLinalg\n",
    "result = PyLinalg().submit(circuit.to_job())\n",
    "print(\"obtention de  (|10>+|01>)/sqrt(2)\")\n",
    "for sample in result:\n",
    "    print(\"State %s, amplitude %s, probability %s\"%(sample.state, sample.amplitude, sample.probability))\n"
   ]
  },
  {
   "cell_type": "code",
   "execution_count": null,
   "id": "043d6bb2-15c9-4635-ac1d-285c43b3c310",
   "metadata": {},
   "outputs": [],
   "source": []
  },
  {
   "cell_type": "markdown",
   "id": "e55204fe-e874-4649-a1af-b2c1daef6344",
   "metadata": {},
   "source": [
    "Montrons que deux circuits  sur des 2-qbits sont équivalents. On va les mettre dabns 2 qroutines et les tester sur les 4 etats de base\n"
   ]
  },
  {
   "cell_type": "code",
   "execution_count": null,
   "id": "ec31e7f7-9a9c-415c-b7d6-de93d2fa5dc7",
   "metadata": {},
   "outputs": [],
   "source": [
    "# 1er circuit\n",
    "rout1 = QRoutine()\n",
    "wires = rout1.new_wires(2)\n",
    "rout1.apply(H,wires[0])\n",
    "rout1.apply(H,wires[1])\n",
    "rout1.apply(CNOT,wires)  \n",
    "rout1.apply(H,wires[0])\n",
    "rout1.apply(H,wires[1])\n",
    "%qatdisplay --svg rout1\n"
   ]
  },
  {
   "cell_type": "code",
   "execution_count": null,
   "id": "cc194329-370a-4027-9f28-809d3c94d148",
   "metadata": {},
   "outputs": [],
   "source": [
    "# 2ecircuit\n",
    "rout2 = QRoutine()\n",
    "wires = rout2.new_wires(2)\n",
    "rout2.apply(CNOT,wires[1],wires[0])  \n",
    "%qatdisplay --svg rout2\n"
   ]
  },
  {
   "cell_type": "code",
   "execution_count": null,
   "id": "9c362bac-dd05-43df-bd37-4a42e00ec2cb",
   "metadata": {},
   "outputs": [],
   "source": [
    "from qat.qpus import PyLinalg\n",
    "prog1 = Program()\n",
    "qbits1 = [prog1.qalloc(2) for i in range(4)]\n",
    "# au départ les 4 2-qbits1 contiennent |00>\n",
    "prog1.apply(X,qbits1[1][0])  #condition initiale |10> dans le 2-qbits1[1]\n",
    "prog1.apply(X,qbits1[2][1])  #condition initiale |01> dans le 2-qbits1[2]\n",
    "prog1.apply(X,qbits1[3][0])  #condition initiale |11> dans le 2-qbits1[3]\n",
    "prog1.apply(X,qbits1[3][1])\n",
    "prog2 = Program()\n",
    "qbits2 = [prog2.qalloc(2) for i in range(4)]\n",
    "prog2.apply(X,qbits2[1][0])\n",
    "prog2.apply(X,qbits2[2][1])\n",
    "prog2.apply(X,qbits2[3][0])\n",
    "prog2.apply(X,qbits2[3][1])\n",
    "for i in range(4):\n",
    "    prog1.apply(rout1, qbits1[i])\n",
    "    circuit = prog1.to_circ(box_routines=True)\n",
    "    result = PyLinalg().submit(circuit.to_job())\n",
    "    for sample in result:\n",
    "        print(\"Circuit 1 : State %s, amplitude %s, probability %s\"%(sample.state, sample.amplitude, sample.probability))\n",
    "    prog1.apply(rout2, qbits2[i])\n",
    "    circuit = prog2.to_circ(box_routines=True)\n",
    "    result = PyLinalg().submit(circuit.to_job())\n",
    "    for sample in result:\n",
    "        print(\"Circuit 2 : State %s, amplitude %s, probability %s\"%(sample.state, sample.amplitude, sample.probability))\n"
   ]
  },
  {
   "cell_type": "markdown",
   "id": "5bc40f4f-ec18-4e66-93dd-66d76e18a281",
   "metadata": {},
   "source": [
    "Exercice Porte  de Toffoli<br>\n",
    "On suppose que les qubits en entrée sont :<br>\n",
    "$\\ket{\\psi_1}=\\ket{0}+\\ket{1}$<br>\n",
    "$\\ket{\\psi_2}=\\ket{0}+2i\\ket{1}$<br>\n",
    "$\\ket{\\psi_3}=2\\ket{0}-3\\ket{1}$<br>\n",
    "Modifier le programme suivant pour calculer les trois qubits de sortie après une pporte de Toffoli."
   ]
  },
  {
   "cell_type": "code",
   "execution_count": null,
   "id": "d76c4f7f-4da3-4e26-9a9c-d342df91816d",
   "metadata": {},
   "outputs": [],
   "source": [
    "from qat.qpus import PyLinalg\n",
    "prog = Program()\n",
    "qbits = prog.qalloc(3)\n",
    "\n",
    "prog.apply(CCNOT, qbits)  \n",
    "circuit = prog.to_circ(box_routines=True)\n",
    "%qatdisplay --svg circuit\n",
    "from qat.qpus import PyLinalg\n",
    "result = PyLinalg().submit(circuit.to_job())\n",
    "for sample in result:\n",
    "    print(\"State %s, amplitude %s, probability %s\"%(sample.state, sample.amplitude, sample.probability))\n"
   ]
  },
  {
   "cell_type": "code",
   "execution_count": null,
   "id": "4b697df8-4791-425c-a34b-253e442c3b64",
   "metadata": {},
   "outputs": [],
   "source": []
  },
  {
   "cell_type": "code",
   "execution_count": null,
   "id": "6eec4cbc-f7c1-4d4c-a21e-41c72c72f32b",
   "metadata": {},
   "outputs": [],
   "source": []
  },
  {
   "cell_type": "code",
   "execution_count": null,
   "id": "fc5c704f-94db-4281-aac1-4185b8a1d25f",
   "metadata": {},
   "outputs": [],
   "source": []
  }
 ],
 "metadata": {
  "kernelspec": {
   "display_name": "Python 3 (ipykernel)",
   "language": "python",
   "name": "python3"
  },
  "language_info": {
   "codemirror_mode": {
    "name": "ipython",
    "version": 3
   },
   "file_extension": ".py",
   "mimetype": "text/x-python",
   "name": "python",
   "nbconvert_exporter": "python",
   "pygments_lexer": "ipython3",
   "version": "3.11.5"
  }
 },
 "nbformat": 4,
 "nbformat_minor": 5
}
