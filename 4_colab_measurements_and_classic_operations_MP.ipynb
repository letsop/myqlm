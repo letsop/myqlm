{
 "cells": [
  {
   "cell_type": "markdown",
   "metadata": {},
   "source": [
    "## Pour fonctionner dans googlecolab : <br>\n",
    "$\\renewcommand{\\ket}[1]{| #1 \\rangle}$  <!Cette commande n'est utile que dans google colab mais ne mange pas de pain-->\n",
    "décommenter les deux cellules suivantes<br>\n",
    "les exécuter<br>\n",
    "redémarrer l'environnement d'exécution <br>"
   ]
  },
  {
   "cell_type": "code",
   "execution_count": null,
   "metadata": {},
   "outputs": [],
   "source": [
    "!pip install myqlm"
   ]
  },
  {
   "cell_type": "code",
   "execution_count": null,
   "metadata": {},
   "outputs": [],
   "source": [
    "!python -m qat.magics.install"
   ]
  },
  {
   "cell_type": "markdown",
   "metadata": {
    "qat-category": "1-Circuit generation in Python",
    "qat-summary": "2-Measurements and classical control"
   },
   "source": [
    "# Measurements and classical control\n",
    "\n",
    "\n",
    "This example details how to perform measurements, and how to use the result to control quantum gates.\n",
    "\n",
    "For this, we are going to write a script generating a circuit of quantum teleportation.\n",
    "Quantum teleportation is a famous, and simple, algorithm that transfers the state of a qbit into another qbit using an EPR pair.\n",
    "\n",
    "For explanation about the EPR pair, take a look at the corresponding tutorial.\n",
    "La \"paire EPR\" : H sur le 1er qbit suivi d'une CNOT sur le 2nd\n",
    "\n",
    "Le paradoxe EPR est l'abréviation de Einstein-Podolsky-Rosen"
   ]
  },
  {
   "cell_type": "code",
   "execution_count": null,
   "metadata": {},
   "outputs": [],
   "source": [
    "from qat.lang.AQASM import Program, H, CNOT, Z, X, RZ, RX\n",
    "tp_prog = Program()\n",
    "# We need 3 qbits this time\n",
    "qbits = tp_prog.qalloc(3)\n",
    "# We will teleport the state of the first qbit\n",
    "source = qbits[0] \n",
    "# into the last qbit\n",
    "target = qbits[2]\n",
    "# Qbit 1 will be used to create an EPR pair with the target qbit\n",
    "tp_prog.apply(H, qbits[1])\n",
    "tp_prog.apply(CNOT,qbits[1],target)"
   ]
  },
  {
   "cell_type": "markdown",
   "metadata": {},
   "source": [
    "Now we need to perform a measurement in the Bell basis of the source and the entangled qbit.\n",
    "\n",
    "We start by rotating the first two qbits in the Bell basis:"
   ]
  },
  {
   "cell_type": "code",
   "execution_count": null,
   "metadata": {},
   "outputs": [],
   "source": [
    "tp_prog.apply(CNOT,source,qbits[1])\n",
    "tp_prog.apply(H,source)"
   ]
  },
  {
   "cell_type": "markdown",
   "metadata": {},
   "source": [
    "We can then measure these two qbits in the computational basis.\n",
    "In order to store the results of the measures, we need to allocate two classical bits:"
   ]
  },
  {
   "cell_type": "code",
   "execution_count": null,
   "metadata": {},
   "outputs": [],
   "source": [
    "results = tp_prog.calloc(2)"
   ]
  },
  {
   "cell_type": "markdown",
   "metadata": {},
   "source": [
    " A measurement is applied to a (list of) qbit(s) and a corresponding (list of) cbit(s)"
   ]
  },
  {
   "cell_type": "code",
   "execution_count": null,
   "metadata": {},
   "outputs": [],
   "source": [
    "#tp_prog.measure([source,qbits[1]],results)\n",
    "# equivalent to:\n",
    "tp_prog.measure(source, results[0])\n",
    "tp_prog.measure(qbits[1], results[1])"
   ]
  },
  {
   "cell_type": "markdown",
   "metadata": {},
   "source": [
    "We can now use the results of the measurements to \"fix\" the last qbit to conclude the teleportation. This is done using conditional gate application. If the classical bit passed as argument evaluates to 1, then the gate will be applied."
   ]
  },
  {
   "cell_type": "code",
   "execution_count": null,
   "metadata": {},
   "outputs": [],
   "source": [
    "results.cbits"
   ]
  },
  {
   "cell_type": "code",
   "execution_count": null,
   "metadata": {},
   "outputs": [],
   "source": [
    "tp_prog.cc_apply(results[1], X, target)\n",
    "tp_prog.cc_apply(results[0], Z, target)"
   ]
  },
  {
   "cell_type": "markdown",
   "metadata": {},
   "source": [
    "A final export, and we are good to go!"
   ]
  },
  {
   "cell_type": "code",
   "execution_count": null,
   "metadata": {},
   "outputs": [],
   "source": [
    "#tp_prog.export(\"teleportation.aqasm\")\n",
    "#!cat teleportation.aqasm\n",
    "circ = tp_prog.to_circ()\n",
    "%qatdisplay --svg circ"
   ]
  },
  {
   "cell_type": "markdown",
   "metadata": {},
   "source": [
    "Let us try and teleport a quantum state!"
   ]
  },
  {
   "cell_type": "code",
   "execution_count": null,
   "metadata": {},
   "outputs": [],
   "source": [
    "# We will generate a random state over the first qubit by applying three random rotations\n",
    "import random, numpy\n",
    "\n",
    "tp_prog = Program()\n",
    "qbits = tp_prog.qalloc(3)\n",
    "results = tp_prog.calloc(2)\n",
    "tp_prog.reset(qbits,results)\n",
    "\n",
    "source = qbits[0] \n",
    "target = qbits[2]\n",
    "# Lets prepare a random state\n",
    "angles = [random.random() * 2. * numpy.pi for _ in range(3)]\n",
    "tp_prog.apply(RZ(angles[0]), source)\n",
    "tp_prog.apply(RX(angles[1]), source)\n",
    "tp_prog.apply(RZ(angles[2]), source)\n",
    "#\n",
    "# Lets fetch the circuit at this stage, in order to compare with the end result\n",
    "cinit = tp_prog.to_circ()\n",
    "%qatdisplay --svg cinit\n",
    "#\n",
    "# And apply the teleportation circuit\n",
    "# EPR pair\n",
    "tp_prog.apply(H, qbits[1])\n",
    "tp_prog.apply(CNOT,qbits[1],target)\n",
    "#  rotating the first two qbits in the Bell basis:\n",
    "tp_prog.apply(CNOT,source,qbits[1])\n",
    "tp_prog.apply(H,source)\n",
    "# Z conditionné par la mesure de 0\n",
    "tp_prog.measure(source, results[0])\n",
    "tp_prog.cc_apply(results[0], Z, target)\n",
    "# X conditionné par la mesure de 1\n",
    "tp_prog.measure(qbits[1], results[1])\n",
    "tp_prog.cc_apply(results[1], X, target)\n",
    "# Ces 4 dernières commandes sont censées être équivalentes à \n",
    "#  tp_prog.measure([source,qbits[1]],results)\n",
    "\n",
    "circuit = tp_prog.to_circ()\n",
    "%qatdisplay --svg circuit"
   ]
  },
  {
   "cell_type": "markdown",
   "metadata": {},
   "source": [
    "Now we can simulate both circuits using the linear algebra simulator."
   ]
  },
  {
   "cell_type": "code",
   "execution_count": null,
   "metadata": {},
   "outputs": [],
   "source": [
    "import random, numpy\n",
    "from qat.qpus import get_default_qpu\n",
    "qpu = get_default_qpu()\n",
    "\n",
    "job_full = circuit.to_job()\n",
    "result_full = qpu.submit(job_full)\n",
    "job_init = cinit.to_job()\n",
    "result_init = qpu.submit(job_init)\n",
    "\n",
    "print(\"Initial state of the system\")\n",
    "for s in result_init:\n",
    "    print(s.state, s.amplitude)\n",
    "    \n",
    "print(\"\\nAnd after teleportation\")\n",
    "for s in result_full:\n",
    "    print(s.state, s.amplitude)\n",
    "\n"
   ]
  },
  {
   "cell_type": "markdown",
   "metadata": {},
   "source": [
    "Remarques : cette demo est directement extraite d'un notebook du tutoriel de la doc :\n",
    "\n",
    "myqlm_notebooks/tutorials/lang/measurements_and_classic_operations.ipynb\n",
    "\n",
    "Si on fait tourner plusieurs fois les deux dernières cellules ça finit par ne plus marcher. \n",
    "\n",
    "\n"
   ]
  },
  {
   "cell_type": "code",
   "execution_count": null,
   "metadata": {},
   "outputs": [],
   "source": [
    "from qat.lang.AQASM import Program, H, CNOT, Z, X, RZ, RX\n",
    "from qat.qpus import get_default_qpu\n",
    "import random, numpy\n",
    "qpu = get_default_qpu()\n",
    "\n",
    "# Faire tourner plusieurs fois\n",
    "for i in range(6):\n",
    "    tp_prog = Program()\n",
    "    qbits = tp_prog.qalloc(3)\n",
    "    results = tp_prog.calloc(2)\n",
    "    tp_prog.reset(qbits,results)\n",
    "\n",
    "    source = qbits[0] \n",
    "    target = qbits[2]\n",
    "    # Lets prepare a random state\n",
    "    angles = [random.random() * 2. * numpy.pi for _ in range(3)]\n",
    "    tp_prog.apply(RZ(angles[0]), source)\n",
    "    tp_prog.apply(RX(angles[1]), source)\n",
    "    tp_prog.apply(RZ(angles[2]), source)\n",
    "    #\n",
    "    # Lets fetch the circuit at this stage, in order to compare with the end result\n",
    "    cinit = tp_prog.to_circ()\n",
    "    #\n",
    "    # And apply the teleportation circuit\n",
    "    # EPR pair\n",
    "    tp_prog.apply(H, qbits[1])\n",
    "    tp_prog.apply(CNOT,qbits[1],target)\n",
    "    #  rotating the first two qbits in the Bell basis:\n",
    "    tp_prog.apply(CNOT,source,qbits[1])\n",
    "    tp_prog.apply(H,source)\n",
    "    # comparer les 4 commandes suivantes\n",
    "    tp_prog.measure(source, results[0])\n",
    "    tp_prog.cc_apply(results[0], Z, target)\n",
    "    tp_prog.measure(qbits[1], results[1])\n",
    "    tp_prog.cc_apply(results[1], X, target)\n",
    "\n",
    "    # avec celle ci :\n",
    "    #tp_prog.measure([source,qbits[1]],results)  \n",
    "    circuit = tp_prog.to_circ()\n",
    "\n",
    "    job_full = circuit.to_job()\n",
    "    result_full = qpu.submit(job_full)\n",
    "    job_init = cinit.to_job()\n",
    "    result_init = qpu.submit(job_init)\n",
    "\n",
    "    print(\"\\nTest \",i,\" Initial state of the system\")\n",
    "    for s in result_init:\n",
    "        print(s.state, s.amplitude)\n",
    "    \n",
    "    print(\"And after teleportation\")\n",
    "    for s in result_full:\n",
    "        print(s.state, s.amplitude)\n",
    "\n",
    "\n"
   ]
  },
  {
   "cell_type": "code",
   "execution_count": null,
   "metadata": {},
   "outputs": [],
   "source": []
  },
  {
   "cell_type": "code",
   "execution_count": null,
   "metadata": {},
   "outputs": [],
   "source": []
  }
 ],
 "metadata": {
  "authors": [
   "Simon Martiel"
  ],
  "kernelspec": {
   "display_name": "Python 3 (ipykernel)",
   "language": "python",
   "name": "python3"
  },
  "language_info": {
   "codemirror_mode": {
    "name": "ipython",
    "version": 3
   },
   "file_extension": ".py",
   "mimetype": "text/x-python",
   "name": "python",
   "nbconvert_exporter": "python",
   "pygments_lexer": "ipython3",
   "version": "3.11.5"
  }
 },
 "nbformat": 4,
 "nbformat_minor": 4
}
