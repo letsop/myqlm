{
 "cells": [
  {
   "cell_type": "markdown",
   "metadata": {},
   "source": [
    "$\\renewcommand{\\ket}[1]{| #1 \\rangle}$  <!Cette commande n'est utile que dans google colab mais ne mange pas de pain-->\n",
    "\n",
    "## Pour fonctionner dans googlecolab : <br>\n",
    "décommenter les deux cellules suivantes<br>\n",
    "les exécuter<br>\n",
    "redémarrer l'environnement d'exécution <br>"
   ]
  },
  {
   "cell_type": "code",
   "execution_count": null,
   "metadata": {},
   "outputs": [],
   "source": [
    "!pip install myqlm"
   ]
  },
  {
   "cell_type": "code",
   "execution_count": null,
   "metadata": {},
   "outputs": [],
   "source": [
    "!python -m qat.magics.install"
   ]
  },
  {
   "cell_type": "markdown",
   "metadata": {},
   "source": [
    "Ce notebook est la copie du 1er notebook dans les tutoriels\n",
    "http://localhost:8888/notebooks/quantic/myqlm_notebooks/tutorials/lang/writing_quantum_program.ipynb\n",
    "\n",
    "## Writing a basic quantum program\n",
    "\n",
    "In this notebook, you will learn how to write a quantum program in Python on the Quantum Learning Machine.\n",
    "\n",
    "\n",
    "In the QLM python framework, a quantum program is contained in a ``Program`` class. It comes with methods to allocate quantum and classical registers, apply gates, measures and resets. A given instance of a ``Program`` can then be converted to a quantum ``Circuit``, which is the object that can be fed to a quantum processor.\n",
    "\n",
    "### Initialization of a Quantum Program\n",
    "\n",
    "In the following snippet, we instantiate a quantum program object called ``prog``:"
   ]
  },
  {
   "cell_type": "code",
   "execution_count": null,
   "metadata": {},
   "outputs": [],
   "source": [
    "from qat.lang.AQASM import Program\n",
    "\n",
    "prog = Program()"
   ]
  },
  {
   "cell_type": "markdown",
   "metadata": {},
   "source": [
    "### Quantum bit allocation\n",
    "\n",
    "The allocation of quantum bits is done via the ``qalloc`` method. It returns a register, which will then be used to refer to the qubits.\n",
    "\n",
    "In the following snippet, we allocated an 8-qubit register:"
   ]
  },
  {
   "cell_type": "code",
   "execution_count": null,
   "metadata": {},
   "outputs": [],
   "source": [
    "qbits = prog.qalloc(8)"
   ]
  },
  {
   "cell_type": "markdown",
   "metadata": {},
   "source": [
    "### Applying quantum gates\n",
    "\n",
    "The application of quantum gates is carried out through the ``apply`` method.\n",
    "\n",
    "Here, we apply standard Hadamard gate on qbit 0, a Pauli X gate on qubit 1, a CNOT gate on qubits 1 and 5, and a phase gate with angle $\\pi/6$ to qubit 5."
   ]
  },
  {
   "cell_type": "code",
   "execution_count": null,
   "metadata": {},
   "outputs": [],
   "source": [
    "from qat.lang.AQASM import H, X, CNOT, PH\n",
    "from math import pi\n",
    "\n",
    "prog.apply(H, qbits[0])\n",
    "prog.apply(X, qbits[1])\n",
    "prog.apply(CNOT, qbits[1], qbits[5])\n",
    "prog.apply(PH(pi/6), qbits[5])"
   ]
  },
  {
   "cell_type": "markdown",
   "metadata": {},
   "source": [
    "### Generation of a quantum circuit\n",
    "\n",
    "Before we describe other common operations such as measurements, let us introduce the final step that allows to generate a quantum-simulation-ready quantum circuit out of the quantum program. \n",
    "\n",
    "This generation is done via the ``to_circ`` method: "
   ]
  },
  {
   "cell_type": "code",
   "execution_count": null,
   "metadata": {},
   "outputs": [],
   "source": [
    "circ = prog.to_circ()"
   ]
  },
  {
   "cell_type": "markdown",
   "metadata": {},
   "source": [
    "### Circuit display\n",
    "The ``.display`` method outputs a graphical representation of the quantum circuit:"
   ]
  },
  {
   "cell_type": "code",
   "execution_count": null,
   "metadata": {},
   "outputs": [],
   "source": [
    "%qatdisplay --svg circ"
   ]
  },
  {
   "cell_type": "markdown",
   "metadata": {},
   "source": [
    "For a more comprehensive reference on the Python AQASM library, including **measures, classical control, custom gates, etc.**, check out [this tutorial](py_aqasm.ipynb).\n",
    "You will find a list of all available gates [here](available_gates.ipynb).\n",
    "\n",
    "$\\renewcommand{\\ketm}[1]{| #1 \\rangle}$\n",
    "Préparation d'un état $$\\phi>=\\alpha\\ketm{0}+\\beta\\ketm{1}$$\n"
   ]
  },
  {
   "cell_type": "code",
   "execution_count": null,
   "metadata": {},
   "outputs": [],
   "source": [
    "#MP Equivalent to\n",
    "from qat.lang.AQASM import Program\n",
    "from qat.lang.AQASM import H, X, CNOT, PH\n",
    "from math import pi\n",
    "prog = Program()\n",
    "qbits = prog.qalloc(8)\n",
    "H(qbits[0])\n",
    "X(qbits[1])\n",
    "CNOT(qbits[0],qbits[5])\n",
    "PH(pi/6)( qbits[5])\n",
    "circ = prog.to_circ()\n",
    "%qatdisplay --svg circ"
   ]
  },
  {
   "cell_type": "markdown",
   "metadata": {},
   "source": [
    "Et pour simuler l'action d'un circuit"
   ]
  },
  {
   "cell_type": "code",
   "execution_count": null,
   "metadata": {},
   "outputs": [],
   "source": [
    "from qat.qpus import get_default_qpu\n",
    "qpu = get_default_qpu()\n",
    "prog = Program()\n",
    "qbits = prog.qalloc(8)\n",
    "c_init=prog.to_circ()\n",
    "job_init = c_init.to_job()\n",
    "result_init = qpu.submit(job_init)\n",
    "print(\"Initial state of the system\")\n",
    "for s in result_init:\n",
    "    print(s.state, s.amplitude)\n",
    "result_init.plot()\n",
    "\n",
    "\n",
    "H(qbits[0])\n",
    "X(qbits[1])\n",
    "CNOT(qbits[0],qbits[5])\n",
    "PH(pi/6)( qbits[5])\n",
    "circ = prog.to_circ()\n",
    "job_final= circ.to_job()\n",
    "result_final = qpu.submit(job_final)    \n",
    "print(\"\\nFinal state\")\n",
    "for s in result_final:\n",
    "    print(s.state, s.amplitude)\n",
    "result_final.plot()"
   ]
  },
  {
   "cell_type": "code",
   "execution_count": null,
   "metadata": {},
   "outputs": [],
   "source": []
  },
  {
   "cell_type": "code",
   "execution_count": null,
   "metadata": {},
   "outputs": [],
   "source": []
  },
  {
   "cell_type": "code",
   "execution_count": null,
   "metadata": {},
   "outputs": [],
   "source": []
  }
 ],
 "metadata": {
  "authors": [
   "Simon Martiel"
  ],
  "kernelspec": {
   "display_name": "Python 3 (ipykernel)",
   "language": "python",
   "name": "python3"
  },
  "language_info": {
   "codemirror_mode": {
    "name": "ipython",
    "version": 3
   },
   "file_extension": ".py",
   "mimetype": "text/x-python",
   "name": "python",
   "nbconvert_exporter": "python",
   "pygments_lexer": "ipython3",
   "version": "3.11.5"
  }
 },
 "nbformat": 4,
 "nbformat_minor": 4
}
