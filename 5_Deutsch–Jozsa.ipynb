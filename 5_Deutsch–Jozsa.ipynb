{
 "cells": [
  {
   "cell_type": "code",
   "execution_count": null,
   "id": "644ef2c6-dd14-43c6-b1ba-1aeff4179226",
   "metadata": {},
   "outputs": [],
   "source": [
    "#\n",
    "#\n",
    "#\n",
    "from qat.lang.AQASM import Program,AbstractGate,QRoutine,H,X,CNOT\n",
    "import numpy as np\n"
   ]
  },
  {
   "attachments": {
    "898daf7c-87a7-4657-a1e7-537368a326d4.png": {
     "image/png": "[encoded data removed]"
    }
   },
   "cell_type": "markdown",
   "id": "ca8f9f34-2eab-48ca-aaa0-2f81265dfcf8",
   "metadata": {},
   "source": [
    " Exemple de Cindy : L’algorithme de Deutsch–Jozsa sur 2 qbits puis sur 4 bits\n",
    " \n",
    " Contexte : on a deux boites avec soit une pomme soit une orange.\n",
    " \n",
    " Question : a-t-on le même fruit dans les deux boites ? Sans avoir à dire quel fruit mais sans ouvrir les deux boites.\n",
    "\n",
    " Formalisme mathématique :\n",
    "Soit une fonction $f : \\{0,1\\}\\rightarrow \\{0,1\\}$.<br>\n",
    "La question est  de savoir si on a \n",
    "\n",
    "$f(0)=f(1)$ cas constant \n",
    "\n",
    "ou bien\n",
    "\n",
    "$f(0)\\neq f(1)$ cas équilibré\n",
    "\n",
    "on definit l'Oracle $O_f$ par $$O_f|x,y>=|x,y\\oplus f(x)>$$\n",
    "\n",
    "Ensuite on programe l'ago de Deutsch donné par le circuit\n",
    "\n",
    "![Capture d’écran 2023-10-14 à 18.28.31.png](attachment:898daf7c-87a7-4657-a1e7-537368a326d4.png)\n",
    "\n",
    "<br>\n",
    "La mesure de l'état de sortie du 1er qbt donne la réponse : s'il vaut |0> $f$ est constante, s'il vaut |1> alors $f$ est équilibré\n",
    " "
   ]
  },
  {
   "cell_type": "markdown",
   "id": "d377fb00-f6e0-46b0-94ec-fd037a534802",
   "metadata": {},
   "source": [
    "1ere methode avec des Abstract Gates \n",
    "inconvenient : il faut calculer la matrice"
   ]
  },
  {
   "cell_type": "code",
   "execution_count": null,
   "id": "1582bed7-4543-4ea2-be82-f55560173ef6",
   "metadata": {},
   "outputs": [],
   "source": [
    "Of = AbstractGate(\"Of\", [], arity=2)\n",
    "def Of_generator0():\n",
    "    # Fonction constante égale à 0 il n'y a rien à faire\n",
    "    return np.array([[1, 0, 0, 0],\n",
    "                     [0, 1, 0, 0],\n",
    "                     [0, 0, 1, 0],\n",
    "                     [0, 0, 0, 1]])\n",
    "\n",
    "# We can now attach this generator to our gate\n",
    "Of.set_matrix_generator(Of_generator0)\n",
    "# Equivalently, we could have defined the gate directly as follows:\n",
    "#Of = AbstractGate(\"Of\", [float], arity=2, matrix_generator=Of_generator0)"
   ]
  },
  {
   "cell_type": "markdown",
   "id": "cf3e42a0-5699-42c5-b671-c891c9e2f5b5",
   "metadata": {},
   "source": [
    "Programmer les 3 autres oracles "
   ]
  },
  {
   "cell_type": "code",
   "execution_count": null,
   "id": "dc480572-7995-4555-8669-d740ea42e29b",
   "metadata": {},
   "outputs": [],
   "source": []
  },
  {
   "cell_type": "code",
   "execution_count": null,
   "id": "3a5e4120-88f0-4afb-b0c3-f212057cfea0",
   "metadata": {},
   "outputs": [],
   "source": [
    "#proposition  de solution\n",
    "\n",
    "def Of_generator1():\n",
    "    # Fonction constante égale à 1\n",
    "    return np.array([[0, 1, 0, 0],\n",
    "                     [1, 0, 0, 0],\n",
    "                     [0, 0, 0, 1],\n",
    "                     [0, 0, 1, 0]])\n",
    "def Of_generatorId():\n",
    "    # Fonction equilibree identite. : CNOT\n",
    "    return np.array([[1, 0, 0, 0],\n",
    "                     [0, 1, 0, 0],\n",
    "                     [0, 0, 0, 1],\n",
    "                     [0, 0, 1, 0]])\n",
    "def Of_generatorX():\n",
    "    # Fonction equilibree  : CNOT controle par 1\n",
    "    return np.array([[0, 1, 0, 0],\n",
    "                     [1, 0, 0, 0],\n",
    "                     [0, 0, 1, 0],\n",
    "                     [0, 0, 0, 1]])\n",
    "\n"
   ]
  },
  {
   "cell_type": "code",
   "execution_count": null,
   "id": "a861ebec-66dd-403f-8a7f-5ad0ca98685d",
   "metadata": {},
   "outputs": [],
   "source": [
    "\n"
   ]
  },
  {
   "cell_type": "code",
   "execution_count": null,
   "id": "f98e4ff7-da38-4d5b-8da3-59d1fb7b28e4",
   "metadata": {},
   "outputs": [],
   "source": [
    "# utilisation dans le circuit :\n",
    "prog = Program()\n",
    "qbits = prog.qalloc(2)\n",
    "prog.apply(H, qbits[0])\n",
    "prog.apply(X, qbits[1])\n",
    "prog.apply(H, qbits[1])\n",
    "prog.apply(Of(), qbits)\n",
    "prog.apply(H, qbits[0])\n",
    "\n",
    "circuit = prog.to_circ(box_routines=True)\n",
    "circuit.display()\n",
    "from qat.qpus import PyLinalg\n",
    "# measuring qubit #0 50 times\n",
    "result = PyLinalg().submit(circuit.to_job(qubits=[0], nbshots=50))\n",
    "for res in result:\n",
    "    print(\"Qubit 0 has value %s (the probability of getting this result is %s +/- %s)\"%(int(res.state[0]),\n",
    "                                                                                 res.probability, res.err))\n",
    "print()\n"
   ]
  },
  {
   "cell_type": "markdown",
   "id": "d6a46cf4-7507-4791-b33b-db0187cc6fa6",
   "metadata": {},
   "source": [
    "Tester avec les 3 autres oracles possibles"
   ]
  },
  {
   "cell_type": "code",
   "execution_count": null,
   "id": "1683d77e-6195-4ca2-8d2d-385b2d1e14e1",
   "metadata": {},
   "outputs": [],
   "source": [
    "#Il vaut mieux programmer une qroutine qu'une abstractgate \n",
    "# ci dessous les 4 cas possibles\n",
    "Or = QRoutine()\n",
    "wires = Or.new_wires(2)\n",
    "#1 rien fonction constante égale à 0\n",
    "#2 fonction constante egale à 1\n",
    "#  rout.apply(X,wires[1]) \n",
    "#3 fonction identité f(0)=0 f(1)=1\n",
    "#rout.apply(CNOT,wires)  \n",
    "#4 fonction f(0)=1 et f(1)=0. \n",
    "#. CNOT controlée par le 1er bit égal à 1\n",
    "Or.apply(X,wires[0])\n",
    "Or.apply(CNOT,wires)  \n",
    "Or.apply(X,wires[0])\n",
    "Or.display()\n",
    "#help(display)"
   ]
  },
  {
   "cell_type": "code",
   "execution_count": null,
   "id": "02de2790-cad5-47af-b1fd-d32c22d63477",
   "metadata": {},
   "outputs": [],
   "source": [
    "prog = Program()\n",
    "qbits = prog.qalloc(2)\n",
    "prog.apply(H, qbits[0])\n",
    "prog.apply(X, qbits[1])\n",
    "prog.apply(H, qbits[1])\n",
    "prog.apply(Or, qbits)\n",
    "prog.apply(H, qbits[0])\n",
    "\n",
    "circuit = prog.to_circ(box_routines=True)\n",
    "circuit.display()\n",
    "from qat.qpus import PyLinalg\n",
    "# measuring qubit #0 50 times\n",
    "result = PyLinalg().submit(circuit.to_job(qubits=[0], nbshots=50))\n",
    "for res in result:\n",
    "    print(\"Qubit 0 has value %s (the probability of getting this result is %s +/- %s)\"%(int(res.state[0]),\n",
    "                                                                                 res.probability, res.err))\n",
    "print()\n"
   ]
  },
  {
   "cell_type": "code",
   "execution_count": null,
   "id": "51366a45-7e27-4434-b7e4-a2e3d125a3e7",
   "metadata": {},
   "outputs": [],
   "source": [
    "# rien n'empeche d'encapsuler ensuite la qroutine dans une abstractGate \n",
    "#pour la faire apparaitre dans le circuit\n",
    "Or = QRoutine()\n",
    "wires = Or.new_wires(2)\n",
    "def my_unknown_f0():\n",
    "    # f(0)=0 et f(1)=0 \n",
    "    return Or\n",
    "def my_unknown_f1():\n",
    "    # f(0)=1 et f(1)=1 \n",
    "    Or.apply(X,wires[1]) \n",
    "    return Or\n",
    "def my_unknown_f2():\n",
    "    # f(0)=0 et f(1)=1 \n",
    "    Or.apply(CNOT,wires)  \n",
    "    return Or\n",
    "def my_unknown_f3():\n",
    "    # f(0)=1 et f(1)=0 \n",
    "    Or.apply(X,wires[0])\n",
    "    Or.apply(CNOT,wires)  \n",
    "    Or.apply(X,wires[0])\n",
    "    return Or"
   ]
  },
  {
   "cell_type": "code",
   "execution_count": null,
   "id": "3c377438-53d5-46b6-b4dc-24c3eb25951d",
   "metadata": {},
   "outputs": [],
   "source": [
    "# We can now add this circuit generator to the GateSignature object\n",
    "Orq = AbstractGate(\"Or\", [])\n",
    "Orq.set_circuit_generator(my_unknown_f3)\n",
    "# Of course, one could have written:\n",
    "#Orq = AbstractGate(\"Or\", [], circuit_generator=my_unknown_f3)\n",
    "\n",
    "\n",
    "prog = Program()\n",
    "qbits = prog.qalloc(2)\n",
    "prog.apply(H, qbits[0])\n",
    "prog.apply(X, qbits[1])\n",
    "prog.apply(H, qbits[1])\n",
    "prog.apply(Orq(), qbits)\n",
    "prog.apply(H, qbits[0])\n",
    "\n",
    "circuit = prog.to_circ(box_routines=True)\n",
    "circuit.display()\n",
    "from qat.qpus import PyLinalg\n",
    "# measuring qubit #0 50 times\n",
    "result = PyLinalg().submit(circuit.to_job(qubits=[0], nbshots=50))\n",
    "for res in result:\n",
    "    print(\"Qubit 0 has value %s (the probability of getting this result is %s +/- %s)\"%(int(res.state[0]),\n",
    "                                                                                 res.probability, res.err))\n",
    "print()"
   ]
  },
  {
   "cell_type": "markdown",
   "id": "d8e91803-a1c9-4f75-b08b-4e8f1a64cbd7",
   "metadata": {},
   "source": [
    "Généralisation à n-qbits : Algorithme de Deutsch–Jozsa\n",
    "\n",
    "Terminologie. Soit une fonction $f : (Z/2Z)^{2n}\\rightarrow Z/2Z$\n",
    "que l’on peut aussi voir comme une fonction\n",
    "$f : \\{0, 1\\}^n \\rightarrow\\{0, 1\\}$. Il y a $2^{(2n)}$ fonctions différentes possibles mais nous n’allons considérer que deux types\n",
    "de fonctions.<br>\n",
    " $f$ est constante si pour tout $(x_1,\\ldots, x_n)$ on a $f(x_1,\\ldots, x_n) = 0$ ou bien si pour tout $(x_1,\\ldots, x_n)$ on a $f(x_1,\\ldots, x_n) = 1$. Il existe donc deux fonctions constantes.\n",
    "<br>\n",
    "f est équilibrée s’il y a autant de n-uplets $(x_1,\\ldots, x_n)$ tels que $f(x_1,\\ldots, x_n) = 0$ que de n-uplets\n",
    "de n-uplets $(x_1,\\ldots, x_n)$ tels que $f(x_1,\\ldots, x_n) = 1$ \n",
    "autrement dit"
   ]
  },
  {
   "cell_type": "markdown",
   "id": "d8958c8d-441d-4d07-9451-10c12ad8ea7d",
   "metadata": {},
   "source": [
    "$$Card\\left\\{(x_1,\\ldots, x_n)\\in(Z/2Z)^{2n}|f(x_1,\\ldots, x_n) = 0\\right\\}=Card\\left\\{(x_1,\\ldots, x_n)\\in(Z/2Z)^{2n}|f(x_1,\\ldots, x_n) = 1\\right\\}$$"
   ]
  },
  {
   "cell_type": "markdown",
   "id": "61a2be95-1a8e-4435-bf44-bc182c67597a",
   "metadata": {},
   "source": [
    "Il y a $\\left(\\dfrac{2^n}{2^{n-1}}\\right)$ telles fonctions. Dès que $n>1$ \n",
    "il y a beaucoup plus de fonctions qui ne sont ni constantes ni équilibrées.\n",
    "<br>\n",
    "Le problème à résoudre est : sachant qu'une fonction $f$ est soit constante, soit équilibrée, déterminer duquel des deux types elle est.\n"
   ]
  },
  {
   "cell_type": "markdown",
   "id": "c37cf78a-f3ef-471d-b14e-e7a650ddc01a",
   "metadata": {},
   "source": [
    "Circuit quantique"
   ]
  },
  {
   "cell_type": "code",
   "execution_count": null,
   "id": "9bd927e9-4e84-4253-aff6-fcf623015abc",
   "metadata": {},
   "outputs": [],
   "source": [
    "#definition de l'oracle\n",
    "n=4\n",
    "\n",
    "\n",
    "#la première fonction constante\n",
    "# f(j)=0 pour tout j - rien à faire\n",
    "Orn = QRoutine()\n",
    "wires = Orn.new_wires(n+1)\n",
    "\n",
    "\n"
   ]
  },
  {
   "cell_type": "code",
   "execution_count": null,
   "id": "654de038-c969-41fa-9d42-30ca5062e3dd",
   "metadata": {},
   "outputs": [],
   "source": [
    "prog = Program()\n",
    "qbits = prog.qalloc(n+1)\n",
    "for i in range(n):\n",
    "    prog.apply(H, qbits[i])\n",
    "prog.apply(X, qbits[n])\n",
    "prog.apply(H, qbits[n])\n",
    "prog.apply(Orn, qbits)\n",
    "for i in range(n):\n",
    "    prog.apply(H, qbits[i])\n",
    "circuit = prog.to_circ(box_routines=True)\n",
    "circuit.display()\n",
    "from qat.qpus import PyLinalg\n",
    "circuit = prog.to_circ(submatrices_only=False)\n",
    "result = PyLinalg().submit(circuit.to_job())\n",
    "for sample in result:\n",
    "    print(\"State %s, amplitude %s, probability %s\"%(sample.state, sample.amplitude, sample.probability))\n",
    "\n",
    "print(\"Si la mesure des n premiers qbits est 0....0000 alors f est constante\",\n",
    "     \"Sinon f est equilibree\")\n",
    "result.plot()\n"
   ]
  },
  {
   "cell_type": "markdown",
   "id": "34078c2b-503c-4d0f-aaa0-30108a58da8d",
   "metadata": {},
   "source": [
    "Programmer l'oracle correspondant à l'autre cas constant, et un oracle correspondant à un cas équilibré. Puis tester"
   ]
  },
  {
   "cell_type": "code",
   "execution_count": null,
   "id": "53c8c156-7373-4fe3-8a7d-5e9939c6c6d2",
   "metadata": {},
   "outputs": [],
   "source": [
    "#proposition de solution\n",
    "Orn = QRoutine()\n",
    "wires = Orn.new_wires(n+1)\n",
    "# un cas équilibré\n",
    "# f(j)=1 si le premier bit est 1, 0 sinon - CNOT controlé par le 1er bit\n",
    "Orn.apply(X,wires[0])\n",
    "Orn.apply(CNOT,wires[0],wires[n]) \n",
    "Orn.apply(X,wires[0])\n",
    "\n",
    "# la deuxième fonction constante\n",
    "# f(j)=1 pour tout j - appliquer X à y\n",
    "Orn = QRoutine()\n",
    "wires = Orn.new_wires(n+1)\n",
    "Orn.apply(X,wires[n]) \n",
    "\n"
   ]
  },
  {
   "cell_type": "code",
   "execution_count": null,
   "id": "1a2d6bc7-71e2-4b97-8f41-7910d0804f10",
   "metadata": {},
   "outputs": [],
   "source": []
  },
  {
   "cell_type": "code",
   "execution_count": null,
   "id": "3516e7c9-49ed-43c2-8bec-c109ce466245",
   "metadata": {},
   "outputs": [],
   "source": []
  }
 ],
 "metadata": {
  "kernelspec": {
   "display_name": "Python 3 (ipykernel)",
   "language": "python",
   "name": "python3"
  },
  "language_info": {
   "codemirror_mode": {
    "name": "ipython",
    "version": 3
   },
   "file_extension": ".py",
   "mimetype": "text/x-python",
   "name": "python",
   "nbconvert_exporter": "python",
   "pygments_lexer": "ipython3",
   "version": "3.11.5"
  }
 },
 "nbformat": 4,
 "nbformat_minor": 5
}
